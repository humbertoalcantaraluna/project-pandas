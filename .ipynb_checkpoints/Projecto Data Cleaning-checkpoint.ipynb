{
 "cells": [
  {
   "cell_type": "markdown",
   "id": "f661dc2d-4957-46d6-b1f9-d50840f0217f",
   "metadata": {},
   "source": [
    "### Project Data Cleaning"
   ]
  },
  {
   "cell_type": "code",
   "execution_count": 121,
   "id": "78f00ea4-9084-4f2c-bc4c-7a4716391922",
   "metadata": {},
   "outputs": [],
   "source": [
    "import pandas as pd\n",
    "import numpy as np"
   ]
  },
  {
   "cell_type": "code",
   "execution_count": 122,
   "id": "5ad987e2-30e2-46e7-bbee-f308f259f646",
   "metadata": {},
   "outputs": [],
   "source": [
    "ruta = 'GSAF5.csv'"
   ]
  },
  {
   "cell_type": "code",
   "execution_count": 123,
   "id": "8f0d3570-3214-4f9e-91f2-278f2230b66e",
   "metadata": {},
   "outputs": [],
   "source": [
    "#df = pd.read_csv(ruta) --> no funciona"
   ]
  },
  {
   "cell_type": "code",
   "execution_count": 124,
   "id": "7384a120-b1b6-4d41-9bd1-41ea207aa8bd",
   "metadata": {},
   "outputs": [
    {
     "data": {
      "text/html": [
       "<div>\n",
       "<style scoped>\n",
       "    .dataframe tbody tr th:only-of-type {\n",
       "        vertical-align: middle;\n",
       "    }\n",
       "\n",
       "    .dataframe tbody tr th {\n",
       "        vertical-align: top;\n",
       "    }\n",
       "\n",
       "    .dataframe thead th {\n",
       "        text-align: right;\n",
       "    }\n",
       "</style>\n",
       "<table border=\"1\" class=\"dataframe\">\n",
       "  <thead>\n",
       "    <tr style=\"text-align: right;\">\n",
       "      <th></th>\n",
       "      <th>Case Number</th>\n",
       "      <th>Date</th>\n",
       "      <th>Year</th>\n",
       "      <th>Type</th>\n",
       "      <th>Country</th>\n",
       "      <th>Area</th>\n",
       "      <th>Location</th>\n",
       "      <th>Activity</th>\n",
       "      <th>Name</th>\n",
       "      <th>Sex</th>\n",
       "      <th>...</th>\n",
       "      <th>Species</th>\n",
       "      <th>Investigator or Source</th>\n",
       "      <th>pdf</th>\n",
       "      <th>href formula</th>\n",
       "      <th>href</th>\n",
       "      <th>Case Number.1</th>\n",
       "      <th>Case Number.2</th>\n",
       "      <th>original order</th>\n",
       "      <th>Unnamed: 22</th>\n",
       "      <th>Unnamed: 23</th>\n",
       "    </tr>\n",
       "  </thead>\n",
       "  <tbody>\n",
       "    <tr>\n",
       "      <th>0</th>\n",
       "      <td>2016.09.18.c</td>\n",
       "      <td>18-Sep-16</td>\n",
       "      <td>2016</td>\n",
       "      <td>Unprovoked</td>\n",
       "      <td>USA</td>\n",
       "      <td>Florida</td>\n",
       "      <td>New Smyrna Beach, Volusia County</td>\n",
       "      <td>Surfing</td>\n",
       "      <td>male</td>\n",
       "      <td>M</td>\n",
       "      <td>...</td>\n",
       "      <td>NaN</td>\n",
       "      <td>Orlando Sentinel, 9/19/2016</td>\n",
       "      <td>2016.09.18.c-NSB.pdf</td>\n",
       "      <td>http://sharkattackfile.net/spreadsheets/pdf_di...</td>\n",
       "      <td>http://sharkattackfile.net/spreadsheets/pdf_di...</td>\n",
       "      <td>2016.09.18.c</td>\n",
       "      <td>2016.09.18.c</td>\n",
       "      <td>5993</td>\n",
       "      <td>NaN</td>\n",
       "      <td>NaN</td>\n",
       "    </tr>\n",
       "    <tr>\n",
       "      <th>1</th>\n",
       "      <td>2016.09.18.b</td>\n",
       "      <td>18-Sep-16</td>\n",
       "      <td>2016</td>\n",
       "      <td>Unprovoked</td>\n",
       "      <td>USA</td>\n",
       "      <td>Florida</td>\n",
       "      <td>New Smyrna Beach, Volusia County</td>\n",
       "      <td>Surfing</td>\n",
       "      <td>Chucky Luciano</td>\n",
       "      <td>M</td>\n",
       "      <td>...</td>\n",
       "      <td>NaN</td>\n",
       "      <td>Orlando Sentinel, 9/19/2016</td>\n",
       "      <td>2016.09.18.b-Luciano.pdf</td>\n",
       "      <td>http://sharkattackfile.net/spreadsheets/pdf_di...</td>\n",
       "      <td>http://sharkattackfile.net/spreadsheets/pdf_di...</td>\n",
       "      <td>2016.09.18.b</td>\n",
       "      <td>2016.09.18.b</td>\n",
       "      <td>5992</td>\n",
       "      <td>NaN</td>\n",
       "      <td>NaN</td>\n",
       "    </tr>\n",
       "    <tr>\n",
       "      <th>2</th>\n",
       "      <td>2016.09.18.a</td>\n",
       "      <td>18-Sep-16</td>\n",
       "      <td>2016</td>\n",
       "      <td>Unprovoked</td>\n",
       "      <td>USA</td>\n",
       "      <td>Florida</td>\n",
       "      <td>New Smyrna Beach, Volusia County</td>\n",
       "      <td>Surfing</td>\n",
       "      <td>male</td>\n",
       "      <td>M</td>\n",
       "      <td>...</td>\n",
       "      <td>NaN</td>\n",
       "      <td>Orlando Sentinel, 9/19/2016</td>\n",
       "      <td>2016.09.18.a-NSB.pdf</td>\n",
       "      <td>http://sharkattackfile.net/spreadsheets/pdf_di...</td>\n",
       "      <td>http://sharkattackfile.net/spreadsheets/pdf_di...</td>\n",
       "      <td>2016.09.18.a</td>\n",
       "      <td>2016.09.18.a</td>\n",
       "      <td>5991</td>\n",
       "      <td>NaN</td>\n",
       "      <td>NaN</td>\n",
       "    </tr>\n",
       "    <tr>\n",
       "      <th>3</th>\n",
       "      <td>2016.09.17</td>\n",
       "      <td>17-Sep-16</td>\n",
       "      <td>2016</td>\n",
       "      <td>Unprovoked</td>\n",
       "      <td>AUSTRALIA</td>\n",
       "      <td>Victoria</td>\n",
       "      <td>Thirteenth Beach</td>\n",
       "      <td>Surfing</td>\n",
       "      <td>Rory Angiolella</td>\n",
       "      <td>M</td>\n",
       "      <td>...</td>\n",
       "      <td>NaN</td>\n",
       "      <td>The Age, 9/18/2016</td>\n",
       "      <td>2016.09.17-Angiolella.pdf</td>\n",
       "      <td>http://sharkattackfile.net/spreadsheets/pdf_di...</td>\n",
       "      <td>http://sharkattackfile.net/spreadsheets/pdf_di...</td>\n",
       "      <td>2016.09.17</td>\n",
       "      <td>2016.09.17</td>\n",
       "      <td>5990</td>\n",
       "      <td>NaN</td>\n",
       "      <td>NaN</td>\n",
       "    </tr>\n",
       "    <tr>\n",
       "      <th>4</th>\n",
       "      <td>2016.09.15</td>\n",
       "      <td>16-Sep-16</td>\n",
       "      <td>2016</td>\n",
       "      <td>Unprovoked</td>\n",
       "      <td>AUSTRALIA</td>\n",
       "      <td>Victoria</td>\n",
       "      <td>Bells Beach</td>\n",
       "      <td>Surfing</td>\n",
       "      <td>male</td>\n",
       "      <td>M</td>\n",
       "      <td>...</td>\n",
       "      <td>2 m shark</td>\n",
       "      <td>The Age, 9/16/2016</td>\n",
       "      <td>2016.09.16-BellsBeach.pdf</td>\n",
       "      <td>http://sharkattackfile.net/spreadsheets/pdf_di...</td>\n",
       "      <td>http://sharkattackfile.net/spreadsheets/pdf_di...</td>\n",
       "      <td>2016.09.16</td>\n",
       "      <td>2016.09.15</td>\n",
       "      <td>5989</td>\n",
       "      <td>NaN</td>\n",
       "      <td>NaN</td>\n",
       "    </tr>\n",
       "  </tbody>\n",
       "</table>\n",
       "<p>5 rows × 24 columns</p>\n",
       "</div>"
      ],
      "text/plain": [
       "    Case Number       Date  Year        Type    Country      Area  \\\n",
       "0  2016.09.18.c  18-Sep-16  2016  Unprovoked        USA   Florida   \n",
       "1  2016.09.18.b  18-Sep-16  2016  Unprovoked        USA   Florida   \n",
       "2  2016.09.18.a  18-Sep-16  2016  Unprovoked        USA   Florida   \n",
       "3    2016.09.17  17-Sep-16  2016  Unprovoked  AUSTRALIA  Victoria   \n",
       "4    2016.09.15  16-Sep-16  2016  Unprovoked  AUSTRALIA  Victoria   \n",
       "\n",
       "                           Location Activity             Name Sex   ...  \\\n",
       "0  New Smyrna Beach, Volusia County  Surfing             male    M  ...   \n",
       "1  New Smyrna Beach, Volusia County  Surfing   Chucky Luciano    M  ...   \n",
       "2  New Smyrna Beach, Volusia County  Surfing             male    M  ...   \n",
       "3                  Thirteenth Beach  Surfing  Rory Angiolella    M  ...   \n",
       "4                       Bells Beach  Surfing             male    M  ...   \n",
       "\n",
       "    Species        Investigator or Source                        pdf  \\\n",
       "0        NaN  Orlando Sentinel, 9/19/2016       2016.09.18.c-NSB.pdf   \n",
       "1        NaN  Orlando Sentinel, 9/19/2016   2016.09.18.b-Luciano.pdf   \n",
       "2        NaN  Orlando Sentinel, 9/19/2016       2016.09.18.a-NSB.pdf   \n",
       "3        NaN           The Age, 9/18/2016  2016.09.17-Angiolella.pdf   \n",
       "4  2 m shark           The Age, 9/16/2016  2016.09.16-BellsBeach.pdf   \n",
       "\n",
       "                                        href formula  \\\n",
       "0  http://sharkattackfile.net/spreadsheets/pdf_di...   \n",
       "1  http://sharkattackfile.net/spreadsheets/pdf_di...   \n",
       "2  http://sharkattackfile.net/spreadsheets/pdf_di...   \n",
       "3  http://sharkattackfile.net/spreadsheets/pdf_di...   \n",
       "4  http://sharkattackfile.net/spreadsheets/pdf_di...   \n",
       "\n",
       "                                                href Case Number.1  \\\n",
       "0  http://sharkattackfile.net/spreadsheets/pdf_di...  2016.09.18.c   \n",
       "1  http://sharkattackfile.net/spreadsheets/pdf_di...  2016.09.18.b   \n",
       "2  http://sharkattackfile.net/spreadsheets/pdf_di...  2016.09.18.a   \n",
       "3  http://sharkattackfile.net/spreadsheets/pdf_di...    2016.09.17   \n",
       "4  http://sharkattackfile.net/spreadsheets/pdf_di...    2016.09.16   \n",
       "\n",
       "  Case Number.2 original order Unnamed: 22 Unnamed: 23  \n",
       "0  2016.09.18.c           5993         NaN         NaN  \n",
       "1  2016.09.18.b           5992         NaN         NaN  \n",
       "2  2016.09.18.a           5991         NaN         NaN  \n",
       "3    2016.09.17           5990         NaN         NaN  \n",
       "4    2016.09.15           5989         NaN         NaN  \n",
       "\n",
       "[5 rows x 24 columns]"
      ]
     },
     "execution_count": 124,
     "metadata": {},
     "output_type": "execute_result"
    }
   ],
   "source": [
    "df = pd.read_csv(ruta, index_col=0, encoding='latin-1')\n",
    "df = df.reset_index()\n",
    "df.head()"
   ]
  },
  {
   "cell_type": "code",
   "execution_count": 125,
   "id": "9a432c21-fdf4-486b-b0ba-3a7b249e3426",
   "metadata": {},
   "outputs": [
    {
     "name": "stdout",
     "output_type": "stream",
     "text": [
      "<class 'pandas.core.frame.DataFrame'>\n",
      "RangeIndex: 5992 entries, 0 to 5991\n",
      "Data columns (total 24 columns):\n",
      " #   Column                  Non-Null Count  Dtype \n",
      "---  ------                  --------------  ----- \n",
      " 0   Case Number             5992 non-null   object\n",
      " 1   Date                    5992 non-null   object\n",
      " 2   Year                    5992 non-null   int64 \n",
      " 3   Type                    5992 non-null   object\n",
      " 4   Country                 5949 non-null   object\n",
      " 5   Area                    5590 non-null   object\n",
      " 6   Location                5496 non-null   object\n",
      " 7   Activity                5465 non-null   object\n",
      " 8   Name                    5792 non-null   object\n",
      " 9   Sex                     5425 non-null   object\n",
      " 10  Age                     3311 non-null   object\n",
      " 11  Injury                  5965 non-null   object\n",
      " 12  Fatal (Y/N)             5973 non-null   object\n",
      " 13  Time                    2779 non-null   object\n",
      " 14  Species                 3058 non-null   object\n",
      " 15  Investigator or Source  5977 non-null   object\n",
      " 16  pdf                     5992 non-null   object\n",
      " 17  href formula            5991 non-null   object\n",
      " 18  href                    5989 non-null   object\n",
      " 19  Case Number.1           5992 non-null   object\n",
      " 20  Case Number.2           5992 non-null   object\n",
      " 21  original order          5992 non-null   int64 \n",
      " 22  Unnamed: 22             1 non-null      object\n",
      " 23  Unnamed: 23             2 non-null      object\n",
      "dtypes: int64(2), object(22)\n",
      "memory usage: 1.1+ MB\n"
     ]
    }
   ],
   "source": [
    "df.info()"
   ]
  },
  {
   "cell_type": "code",
   "execution_count": 126,
   "id": "56eb869c-f432-45a9-9e01-809336631488",
   "metadata": {},
   "outputs": [
    {
     "data": {
      "text/html": [
       "<div>\n",
       "<style scoped>\n",
       "    .dataframe tbody tr th:only-of-type {\n",
       "        vertical-align: middle;\n",
       "    }\n",
       "\n",
       "    .dataframe tbody tr th {\n",
       "        vertical-align: top;\n",
       "    }\n",
       "\n",
       "    .dataframe thead th {\n",
       "        text-align: right;\n",
       "    }\n",
       "</style>\n",
       "<table border=\"1\" class=\"dataframe\">\n",
       "  <thead>\n",
       "    <tr style=\"text-align: right;\">\n",
       "      <th></th>\n",
       "      <th>count</th>\n",
       "      <th>unique</th>\n",
       "      <th>top</th>\n",
       "      <th>freq</th>\n",
       "      <th>mean</th>\n",
       "      <th>std</th>\n",
       "      <th>min</th>\n",
       "      <th>25%</th>\n",
       "      <th>50%</th>\n",
       "      <th>75%</th>\n",
       "      <th>max</th>\n",
       "    </tr>\n",
       "  </thead>\n",
       "  <tbody>\n",
       "    <tr>\n",
       "      <th>Case Number</th>\n",
       "      <td>5992</td>\n",
       "      <td>5976</td>\n",
       "      <td>1990.05.10</td>\n",
       "      <td>2</td>\n",
       "      <td>NaN</td>\n",
       "      <td>NaN</td>\n",
       "      <td>NaN</td>\n",
       "      <td>NaN</td>\n",
       "      <td>NaN</td>\n",
       "      <td>NaN</td>\n",
       "      <td>NaN</td>\n",
       "    </tr>\n",
       "    <tr>\n",
       "      <th>Date</th>\n",
       "      <td>5992</td>\n",
       "      <td>5128</td>\n",
       "      <td>1957</td>\n",
       "      <td>11</td>\n",
       "      <td>NaN</td>\n",
       "      <td>NaN</td>\n",
       "      <td>NaN</td>\n",
       "      <td>NaN</td>\n",
       "      <td>NaN</td>\n",
       "      <td>NaN</td>\n",
       "      <td>NaN</td>\n",
       "    </tr>\n",
       "    <tr>\n",
       "      <th>Year</th>\n",
       "      <td>5992.0</td>\n",
       "      <td>NaN</td>\n",
       "      <td>NaN</td>\n",
       "      <td>NaN</td>\n",
       "      <td>1925.204606</td>\n",
       "      <td>286.473712</td>\n",
       "      <td>0.0</td>\n",
       "      <td>1942.0</td>\n",
       "      <td>1975.0</td>\n",
       "      <td>2003.0</td>\n",
       "      <td>2016.0</td>\n",
       "    </tr>\n",
       "    <tr>\n",
       "      <th>Type</th>\n",
       "      <td>5992</td>\n",
       "      <td>6</td>\n",
       "      <td>Unprovoked</td>\n",
       "      <td>4386</td>\n",
       "      <td>NaN</td>\n",
       "      <td>NaN</td>\n",
       "      <td>NaN</td>\n",
       "      <td>NaN</td>\n",
       "      <td>NaN</td>\n",
       "      <td>NaN</td>\n",
       "      <td>NaN</td>\n",
       "    </tr>\n",
       "    <tr>\n",
       "      <th>Country</th>\n",
       "      <td>5949</td>\n",
       "      <td>203</td>\n",
       "      <td>USA</td>\n",
       "      <td>2116</td>\n",
       "      <td>NaN</td>\n",
       "      <td>NaN</td>\n",
       "      <td>NaN</td>\n",
       "      <td>NaN</td>\n",
       "      <td>NaN</td>\n",
       "      <td>NaN</td>\n",
       "      <td>NaN</td>\n",
       "    </tr>\n",
       "    <tr>\n",
       "      <th>Area</th>\n",
       "      <td>5590</td>\n",
       "      <td>785</td>\n",
       "      <td>Florida</td>\n",
       "      <td>990</td>\n",
       "      <td>NaN</td>\n",
       "      <td>NaN</td>\n",
       "      <td>NaN</td>\n",
       "      <td>NaN</td>\n",
       "      <td>NaN</td>\n",
       "      <td>NaN</td>\n",
       "      <td>NaN</td>\n",
       "    </tr>\n",
       "    <tr>\n",
       "      <th>Location</th>\n",
       "      <td>5496</td>\n",
       "      <td>3929</td>\n",
       "      <td>New Smyrna Beach, Volusia County</td>\n",
       "      <td>157</td>\n",
       "      <td>NaN</td>\n",
       "      <td>NaN</td>\n",
       "      <td>NaN</td>\n",
       "      <td>NaN</td>\n",
       "      <td>NaN</td>\n",
       "      <td>NaN</td>\n",
       "      <td>NaN</td>\n",
       "    </tr>\n",
       "    <tr>\n",
       "      <th>Activity</th>\n",
       "      <td>5465</td>\n",
       "      <td>1492</td>\n",
       "      <td>Surfing</td>\n",
       "      <td>904</td>\n",
       "      <td>NaN</td>\n",
       "      <td>NaN</td>\n",
       "      <td>NaN</td>\n",
       "      <td>NaN</td>\n",
       "      <td>NaN</td>\n",
       "      <td>NaN</td>\n",
       "      <td>NaN</td>\n",
       "    </tr>\n",
       "    <tr>\n",
       "      <th>Name</th>\n",
       "      <td>5792</td>\n",
       "      <td>5009</td>\n",
       "      <td>male</td>\n",
       "      <td>495</td>\n",
       "      <td>NaN</td>\n",
       "      <td>NaN</td>\n",
       "      <td>NaN</td>\n",
       "      <td>NaN</td>\n",
       "      <td>NaN</td>\n",
       "      <td>NaN</td>\n",
       "      <td>NaN</td>\n",
       "    </tr>\n",
       "    <tr>\n",
       "      <th>Sex</th>\n",
       "      <td>5425</td>\n",
       "      <td>6</td>\n",
       "      <td>M</td>\n",
       "      <td>4835</td>\n",
       "      <td>NaN</td>\n",
       "      <td>NaN</td>\n",
       "      <td>NaN</td>\n",
       "      <td>NaN</td>\n",
       "      <td>NaN</td>\n",
       "      <td>NaN</td>\n",
       "      <td>NaN</td>\n",
       "    </tr>\n",
       "    <tr>\n",
       "      <th>Age</th>\n",
       "      <td>3311</td>\n",
       "      <td>151</td>\n",
       "      <td>17</td>\n",
       "      <td>148</td>\n",
       "      <td>NaN</td>\n",
       "      <td>NaN</td>\n",
       "      <td>NaN</td>\n",
       "      <td>NaN</td>\n",
       "      <td>NaN</td>\n",
       "      <td>NaN</td>\n",
       "      <td>NaN</td>\n",
       "    </tr>\n",
       "    <tr>\n",
       "      <th>Injury</th>\n",
       "      <td>5965</td>\n",
       "      <td>3595</td>\n",
       "      <td>FATAL</td>\n",
       "      <td>729</td>\n",
       "      <td>NaN</td>\n",
       "      <td>NaN</td>\n",
       "      <td>NaN</td>\n",
       "      <td>NaN</td>\n",
       "      <td>NaN</td>\n",
       "      <td>NaN</td>\n",
       "      <td>NaN</td>\n",
       "    </tr>\n",
       "    <tr>\n",
       "      <th>Fatal (Y/N)</th>\n",
       "      <td>5973</td>\n",
       "      <td>8</td>\n",
       "      <td>N</td>\n",
       "      <td>4315</td>\n",
       "      <td>NaN</td>\n",
       "      <td>NaN</td>\n",
       "      <td>NaN</td>\n",
       "      <td>NaN</td>\n",
       "      <td>NaN</td>\n",
       "      <td>NaN</td>\n",
       "      <td>NaN</td>\n",
       "    </tr>\n",
       "    <tr>\n",
       "      <th>Time</th>\n",
       "      <td>2779</td>\n",
       "      <td>357</td>\n",
       "      <td>Afternoon</td>\n",
       "      <td>174</td>\n",
       "      <td>NaN</td>\n",
       "      <td>NaN</td>\n",
       "      <td>NaN</td>\n",
       "      <td>NaN</td>\n",
       "      <td>NaN</td>\n",
       "      <td>NaN</td>\n",
       "      <td>NaN</td>\n",
       "    </tr>\n",
       "    <tr>\n",
       "      <th>Species</th>\n",
       "      <td>3058</td>\n",
       "      <td>1538</td>\n",
       "      <td>White shark</td>\n",
       "      <td>161</td>\n",
       "      <td>NaN</td>\n",
       "      <td>NaN</td>\n",
       "      <td>NaN</td>\n",
       "      <td>NaN</td>\n",
       "      <td>NaN</td>\n",
       "      <td>NaN</td>\n",
       "      <td>NaN</td>\n",
       "    </tr>\n",
       "    <tr>\n",
       "      <th>Investigator or Source</th>\n",
       "      <td>5977</td>\n",
       "      <td>4752</td>\n",
       "      <td>C. Moore, GSAF</td>\n",
       "      <td>94</td>\n",
       "      <td>NaN</td>\n",
       "      <td>NaN</td>\n",
       "      <td>NaN</td>\n",
       "      <td>NaN</td>\n",
       "      <td>NaN</td>\n",
       "      <td>NaN</td>\n",
       "      <td>NaN</td>\n",
       "    </tr>\n",
       "    <tr>\n",
       "      <th>pdf</th>\n",
       "      <td>5992</td>\n",
       "      <td>5981</td>\n",
       "      <td>1907.10.16.R-HongKong.pdf</td>\n",
       "      <td>2</td>\n",
       "      <td>NaN</td>\n",
       "      <td>NaN</td>\n",
       "      <td>NaN</td>\n",
       "      <td>NaN</td>\n",
       "      <td>NaN</td>\n",
       "      <td>NaN</td>\n",
       "      <td>NaN</td>\n",
       "    </tr>\n",
       "    <tr>\n",
       "      <th>href formula</th>\n",
       "      <td>5991</td>\n",
       "      <td>5980</td>\n",
       "      <td>http://sharkattackfile.net/spreadsheets/pdf_di...</td>\n",
       "      <td>2</td>\n",
       "      <td>NaN</td>\n",
       "      <td>NaN</td>\n",
       "      <td>NaN</td>\n",
       "      <td>NaN</td>\n",
       "      <td>NaN</td>\n",
       "      <td>NaN</td>\n",
       "      <td>NaN</td>\n",
       "    </tr>\n",
       "    <tr>\n",
       "      <th>href</th>\n",
       "      <td>5989</td>\n",
       "      <td>5972</td>\n",
       "      <td>http://sharkattackfile.net/spreadsheets/pdf_di...</td>\n",
       "      <td>4</td>\n",
       "      <td>NaN</td>\n",
       "      <td>NaN</td>\n",
       "      <td>NaN</td>\n",
       "      <td>NaN</td>\n",
       "      <td>NaN</td>\n",
       "      <td>NaN</td>\n",
       "      <td>NaN</td>\n",
       "    </tr>\n",
       "    <tr>\n",
       "      <th>Case Number.1</th>\n",
       "      <td>5992</td>\n",
       "      <td>5975</td>\n",
       "      <td>1952.08.04</td>\n",
       "      <td>2</td>\n",
       "      <td>NaN</td>\n",
       "      <td>NaN</td>\n",
       "      <td>NaN</td>\n",
       "      <td>NaN</td>\n",
       "      <td>NaN</td>\n",
       "      <td>NaN</td>\n",
       "      <td>NaN</td>\n",
       "    </tr>\n",
       "    <tr>\n",
       "      <th>Case Number.2</th>\n",
       "      <td>5992</td>\n",
       "      <td>5976</td>\n",
       "      <td>1990.05.10</td>\n",
       "      <td>2</td>\n",
       "      <td>NaN</td>\n",
       "      <td>NaN</td>\n",
       "      <td>NaN</td>\n",
       "      <td>NaN</td>\n",
       "      <td>NaN</td>\n",
       "      <td>NaN</td>\n",
       "      <td>NaN</td>\n",
       "    </tr>\n",
       "    <tr>\n",
       "      <th>original order</th>\n",
       "      <td>5992.0</td>\n",
       "      <td>NaN</td>\n",
       "      <td>NaN</td>\n",
       "      <td>NaN</td>\n",
       "      <td>2997.548899</td>\n",
       "      <td>1729.86021</td>\n",
       "      <td>2.0</td>\n",
       "      <td>1499.75</td>\n",
       "      <td>2997.5</td>\n",
       "      <td>4495.25</td>\n",
       "      <td>5993.0</td>\n",
       "    </tr>\n",
       "    <tr>\n",
       "      <th>Unnamed: 22</th>\n",
       "      <td>1</td>\n",
       "      <td>1</td>\n",
       "      <td>stopped here</td>\n",
       "      <td>1</td>\n",
       "      <td>NaN</td>\n",
       "      <td>NaN</td>\n",
       "      <td>NaN</td>\n",
       "      <td>NaN</td>\n",
       "      <td>NaN</td>\n",
       "      <td>NaN</td>\n",
       "      <td>NaN</td>\n",
       "    </tr>\n",
       "    <tr>\n",
       "      <th>Unnamed: 23</th>\n",
       "      <td>2</td>\n",
       "      <td>2</td>\n",
       "      <td>Teramo</td>\n",
       "      <td>1</td>\n",
       "      <td>NaN</td>\n",
       "      <td>NaN</td>\n",
       "      <td>NaN</td>\n",
       "      <td>NaN</td>\n",
       "      <td>NaN</td>\n",
       "      <td>NaN</td>\n",
       "      <td>NaN</td>\n",
       "    </tr>\n",
       "  </tbody>\n",
       "</table>\n",
       "</div>"
      ],
      "text/plain": [
       "                         count unique  \\\n",
       "Case Number               5992   5976   \n",
       "Date                      5992   5128   \n",
       "Year                    5992.0    NaN   \n",
       "Type                      5992      6   \n",
       "Country                   5949    203   \n",
       "Area                      5590    785   \n",
       "Location                  5496   3929   \n",
       "Activity                  5465   1492   \n",
       "Name                      5792   5009   \n",
       "Sex                       5425      6   \n",
       "Age                       3311    151   \n",
       "Injury                    5965   3595   \n",
       "Fatal (Y/N)               5973      8   \n",
       "Time                      2779    357   \n",
       "Species                   3058   1538   \n",
       "Investigator or Source    5977   4752   \n",
       "pdf                       5992   5981   \n",
       "href formula              5991   5980   \n",
       "href                      5989   5972   \n",
       "Case Number.1             5992   5975   \n",
       "Case Number.2             5992   5976   \n",
       "original order          5992.0    NaN   \n",
       "Unnamed: 22                  1      1   \n",
       "Unnamed: 23                  2      2   \n",
       "\n",
       "                                                                      top  \\\n",
       "Case Number                                                    1990.05.10   \n",
       "Date                                                                 1957   \n",
       "Year                                                                  NaN   \n",
       "Type                                                           Unprovoked   \n",
       "Country                                                               USA   \n",
       "Area                                                              Florida   \n",
       "Location                                 New Smyrna Beach, Volusia County   \n",
       "Activity                                                          Surfing   \n",
       "Name                                                                 male   \n",
       "Sex                                                                     M   \n",
       "Age                                                                    17   \n",
       "Injury                                                              FATAL   \n",
       "Fatal (Y/N)                                                             N   \n",
       "Time                                                            Afternoon   \n",
       "Species                                                       White shark   \n",
       "Investigator or Source                                     C. Moore, GSAF   \n",
       "pdf                                             1907.10.16.R-HongKong.pdf   \n",
       "href formula            http://sharkattackfile.net/spreadsheets/pdf_di...   \n",
       "href                    http://sharkattackfile.net/spreadsheets/pdf_di...   \n",
       "Case Number.1                                                  1952.08.04   \n",
       "Case Number.2                                                  1990.05.10   \n",
       "original order                                                        NaN   \n",
       "Unnamed: 22                                                  stopped here   \n",
       "Unnamed: 23                                                        Teramo   \n",
       "\n",
       "                        freq         mean         std  min      25%     50%  \\\n",
       "Case Number                2          NaN         NaN  NaN      NaN     NaN   \n",
       "Date                      11          NaN         NaN  NaN      NaN     NaN   \n",
       "Year                     NaN  1925.204606  286.473712  0.0   1942.0  1975.0   \n",
       "Type                    4386          NaN         NaN  NaN      NaN     NaN   \n",
       "Country                 2116          NaN         NaN  NaN      NaN     NaN   \n",
       "Area                     990          NaN         NaN  NaN      NaN     NaN   \n",
       "Location                 157          NaN         NaN  NaN      NaN     NaN   \n",
       "Activity                 904          NaN         NaN  NaN      NaN     NaN   \n",
       "Name                     495          NaN         NaN  NaN      NaN     NaN   \n",
       "Sex                     4835          NaN         NaN  NaN      NaN     NaN   \n",
       "Age                      148          NaN         NaN  NaN      NaN     NaN   \n",
       "Injury                   729          NaN         NaN  NaN      NaN     NaN   \n",
       "Fatal (Y/N)             4315          NaN         NaN  NaN      NaN     NaN   \n",
       "Time                     174          NaN         NaN  NaN      NaN     NaN   \n",
       "Species                  161          NaN         NaN  NaN      NaN     NaN   \n",
       "Investigator or Source    94          NaN         NaN  NaN      NaN     NaN   \n",
       "pdf                        2          NaN         NaN  NaN      NaN     NaN   \n",
       "href formula               2          NaN         NaN  NaN      NaN     NaN   \n",
       "href                       4          NaN         NaN  NaN      NaN     NaN   \n",
       "Case Number.1              2          NaN         NaN  NaN      NaN     NaN   \n",
       "Case Number.2              2          NaN         NaN  NaN      NaN     NaN   \n",
       "original order           NaN  2997.548899  1729.86021  2.0  1499.75  2997.5   \n",
       "Unnamed: 22                1          NaN         NaN  NaN      NaN     NaN   \n",
       "Unnamed: 23                1          NaN         NaN  NaN      NaN     NaN   \n",
       "\n",
       "                            75%     max  \n",
       "Case Number                 NaN     NaN  \n",
       "Date                        NaN     NaN  \n",
       "Year                     2003.0  2016.0  \n",
       "Type                        NaN     NaN  \n",
       "Country                     NaN     NaN  \n",
       "Area                        NaN     NaN  \n",
       "Location                    NaN     NaN  \n",
       "Activity                    NaN     NaN  \n",
       "Name                        NaN     NaN  \n",
       "Sex                         NaN     NaN  \n",
       "Age                         NaN     NaN  \n",
       "Injury                      NaN     NaN  \n",
       "Fatal (Y/N)                 NaN     NaN  \n",
       "Time                        NaN     NaN  \n",
       "Species                     NaN     NaN  \n",
       "Investigator or Source      NaN     NaN  \n",
       "pdf                         NaN     NaN  \n",
       "href formula                NaN     NaN  \n",
       "href                        NaN     NaN  \n",
       "Case Number.1               NaN     NaN  \n",
       "Case Number.2               NaN     NaN  \n",
       "original order          4495.25  5993.0  \n",
       "Unnamed: 22                 NaN     NaN  \n",
       "Unnamed: 23                 NaN     NaN  "
      ]
     },
     "execution_count": 126,
     "metadata": {},
     "output_type": "execute_result"
    }
   ],
   "source": [
    "df.describe(include = 'all').T"
   ]
  },
  {
   "cell_type": "code",
   "execution_count": 127,
   "id": "8bb8805a-f723-43d8-a4e5-fc6b0abb90e8",
   "metadata": {},
   "outputs": [
    {
     "name": "stdout",
     "output_type": "stream",
     "text": [
      "Index(['Case Number', 'Date', 'Year', 'Type', 'Country', 'Area', 'Location',\n",
      "       'Activity', 'Name', 'Sex ', 'Age', 'Injury', 'Fatal (Y/N)', 'Time',\n",
      "       'Species ', 'Investigator or Source', 'pdf', 'href formula', 'href',\n",
      "       'Case Number.1', 'Case Number.2', 'original order', 'Unnamed: 22',\n",
      "       'Unnamed: 23'],\n",
      "      dtype='object')\n"
     ]
    }
   ],
   "source": [
    "print(df.columns)"
   ]
  },
  {
   "cell_type": "code",
   "execution_count": 128,
   "id": "3a9cd895-396f-4aa0-9116-998569d10187",
   "metadata": {},
   "outputs": [
    {
     "data": {
      "text/plain": [
       "24"
      ]
     },
     "execution_count": 128,
     "metadata": {},
     "output_type": "execute_result"
    }
   ],
   "source": [
    "len(df.columns)"
   ]
  },
  {
   "cell_type": "code",
   "execution_count": 129,
   "id": "f4e8d1e5-87d7-4228-b7c0-c661202fe37a",
   "metadata": {},
   "outputs": [
    {
     "data": {
      "text/plain": [
       "(5992, 24)"
      ]
     },
     "execution_count": 129,
     "metadata": {},
     "output_type": "execute_result"
    }
   ],
   "source": [
    "df.shape"
   ]
  },
  {
   "cell_type": "code",
   "execution_count": 130,
   "id": "74d75ba5-b47d-4c1f-a5e4-629333be7a66",
   "metadata": {},
   "outputs": [
    {
     "data": {
      "text/plain": [
       "Case Number                  0\n",
       "Date                         0\n",
       "Year                         0\n",
       "Type                         0\n",
       "Country                     43\n",
       "Area                       402\n",
       "Location                   496\n",
       "Activity                   527\n",
       "Name                       200\n",
       "Sex                        567\n",
       "Age                       2681\n",
       "Injury                      27\n",
       "Fatal (Y/N)                 19\n",
       "Time                      3213\n",
       "Species                   2934\n",
       "Investigator or Source      15\n",
       "pdf                          0\n",
       "href formula                 1\n",
       "href                         3\n",
       "Case Number.1                0\n",
       "Case Number.2                0\n",
       "original order               0\n",
       "Unnamed: 22               5991\n",
       "Unnamed: 23               5990\n",
       "dtype: int64"
      ]
     },
     "execution_count": 130,
     "metadata": {},
     "output_type": "execute_result"
    }
   ],
   "source": [
    "df.isnull().sum()"
   ]
  },
  {
   "cell_type": "code",
   "execution_count": 131,
   "id": "a4da151e-6c1d-4c19-a760-f3caf30cf93f",
   "metadata": {},
   "outputs": [
    {
     "data": {
      "text/plain": [
       "Case Number                  0\n",
       "Date                         0\n",
       "Year                         0\n",
       "Type                         0\n",
       "Country                     43\n",
       "Area                       402\n",
       "Location                   496\n",
       "Activity                   527\n",
       "Name                       200\n",
       "Sex                        567\n",
       "Age                       2681\n",
       "Injury                      27\n",
       "Fatal (Y/N)                 19\n",
       "Time                      3213\n",
       "Species                   2934\n",
       "Investigator or Source      15\n",
       "pdf                          0\n",
       "href formula                 1\n",
       "href                         3\n",
       "Case Number.1                0\n",
       "Case Number.2                0\n",
       "original order               0\n",
       "Unnamed: 22               5991\n",
       "Unnamed: 23               5990\n",
       "dtype: int64"
      ]
     },
     "execution_count": 131,
     "metadata": {},
     "output_type": "execute_result"
    }
   ],
   "source": [
    "total_nulos = df.isnull().sum()\n",
    "total_nulos"
   ]
  },
  {
   "cell_type": "code",
   "execution_count": 132,
   "id": "1752886d-232f-48aa-b533-359fefc5c3bd",
   "metadata": {},
   "outputs": [
    {
     "data": {
      "text/plain": [
       "href formula              0.000167\n",
       "href                      0.000501\n",
       "Investigator or Source    0.002503\n",
       "Fatal (Y/N)               0.003171\n",
       "Injury                    0.004506\n",
       "Country                   0.007176\n",
       "Name                      0.033378\n",
       "Area                      0.067089\n",
       "Location                  0.082777\n",
       "Activity                  0.087951\n",
       "Sex                       0.094626\n",
       "Age                       0.447430\n",
       "Species                   0.489653\n",
       "Time                      0.536215\n",
       "Unnamed: 23               0.999666\n",
       "Unnamed: 22               0.999833\n",
       "dtype: float64"
      ]
     },
     "execution_count": 132,
     "metadata": {},
     "output_type": "execute_result"
    }
   ],
   "source": [
    "porcentaje_nulos = total_nulos[total_nulos > 0].sort_values()/df.shape[0]\n",
    "porcentaje_nulos"
   ]
  },
  {
   "cell_type": "code",
   "execution_count": 133,
   "id": "28699ee5-528b-47b8-b603-4bc25d818095",
   "metadata": {},
   "outputs": [
    {
     "data": {
      "text/plain": [
       "Index(['Age', 'Species ', 'Time', 'Unnamed: 23', 'Unnamed: 22'], dtype='object')"
      ]
     },
     "execution_count": 133,
     "metadata": {},
     "output_type": "execute_result"
    }
   ],
   "source": [
    "columnas_malas = porcentaje_nulos[porcentaje_nulos > 0.2].index\n",
    "columnas_malas"
   ]
  },
  {
   "cell_type": "code",
   "execution_count": 134,
   "id": "5af94c71-4c91-492e-8852-a9a7f1644b1f",
   "metadata": {},
   "outputs": [
    {
     "data": {
      "text/plain": [
       "3.856642189586115"
      ]
     },
     "execution_count": 134,
     "metadata": {},
     "output_type": "execute_result"
    }
   ],
   "source": [
    "porcentaje_nulos.sum()"
   ]
  },
  {
   "cell_type": "code",
   "execution_count": 135,
   "id": "145ef5ec-dba5-4e34-b5c8-c1fe763d6176",
   "metadata": {},
   "outputs": [],
   "source": [
    "df.drop(columns = columnas_malas, inplace = True)"
   ]
  },
  {
   "cell_type": "code",
   "execution_count": 136,
   "id": "711169be-70ae-4ed5-bbe7-aec7d987aed5",
   "metadata": {},
   "outputs": [
    {
     "data": {
      "text/plain": [
       "(5992, 19)"
      ]
     },
     "execution_count": 136,
     "metadata": {},
     "output_type": "execute_result"
    }
   ],
   "source": [
    "df.shape"
   ]
  },
  {
   "cell_type": "code",
   "execution_count": 137,
   "id": "44e68ab3-7d8b-4039-818c-0fd3d0be1e3d",
   "metadata": {},
   "outputs": [
    {
     "data": {
      "text/html": [
       "<div>\n",
       "<style scoped>\n",
       "    .dataframe tbody tr th:only-of-type {\n",
       "        vertical-align: middle;\n",
       "    }\n",
       "\n",
       "    .dataframe tbody tr th {\n",
       "        vertical-align: top;\n",
       "    }\n",
       "\n",
       "    .dataframe thead th {\n",
       "        text-align: right;\n",
       "    }\n",
       "</style>\n",
       "<table border=\"1\" class=\"dataframe\">\n",
       "  <thead>\n",
       "    <tr style=\"text-align: right;\">\n",
       "      <th></th>\n",
       "      <th>Case Number</th>\n",
       "      <th>Date</th>\n",
       "      <th>Year</th>\n",
       "      <th>Type</th>\n",
       "      <th>Country</th>\n",
       "      <th>Area</th>\n",
       "      <th>Location</th>\n",
       "      <th>Activity</th>\n",
       "      <th>Name</th>\n",
       "      <th>Sex</th>\n",
       "      <th>Injury</th>\n",
       "      <th>Fatal (Y/N)</th>\n",
       "      <th>Investigator or Source</th>\n",
       "      <th>pdf</th>\n",
       "      <th>href formula</th>\n",
       "      <th>href</th>\n",
       "      <th>Case Number.1</th>\n",
       "      <th>Case Number.2</th>\n",
       "      <th>original order</th>\n",
       "    </tr>\n",
       "  </thead>\n",
       "  <tbody>\n",
       "    <tr>\n",
       "      <th>0</th>\n",
       "      <td>2016.09.18.c</td>\n",
       "      <td>18-Sep-16</td>\n",
       "      <td>2016</td>\n",
       "      <td>Unprovoked</td>\n",
       "      <td>USA</td>\n",
       "      <td>Florida</td>\n",
       "      <td>New Smyrna Beach, Volusia County</td>\n",
       "      <td>Surfing</td>\n",
       "      <td>male</td>\n",
       "      <td>M</td>\n",
       "      <td>Minor injury to thigh</td>\n",
       "      <td>N</td>\n",
       "      <td>Orlando Sentinel, 9/19/2016</td>\n",
       "      <td>2016.09.18.c-NSB.pdf</td>\n",
       "      <td>http://sharkattackfile.net/spreadsheets/pdf_di...</td>\n",
       "      <td>http://sharkattackfile.net/spreadsheets/pdf_di...</td>\n",
       "      <td>2016.09.18.c</td>\n",
       "      <td>2016.09.18.c</td>\n",
       "      <td>5993</td>\n",
       "    </tr>\n",
       "    <tr>\n",
       "      <th>1</th>\n",
       "      <td>2016.09.18.b</td>\n",
       "      <td>18-Sep-16</td>\n",
       "      <td>2016</td>\n",
       "      <td>Unprovoked</td>\n",
       "      <td>USA</td>\n",
       "      <td>Florida</td>\n",
       "      <td>New Smyrna Beach, Volusia County</td>\n",
       "      <td>Surfing</td>\n",
       "      <td>Chucky Luciano</td>\n",
       "      <td>M</td>\n",
       "      <td>Lacerations to hands</td>\n",
       "      <td>N</td>\n",
       "      <td>Orlando Sentinel, 9/19/2016</td>\n",
       "      <td>2016.09.18.b-Luciano.pdf</td>\n",
       "      <td>http://sharkattackfile.net/spreadsheets/pdf_di...</td>\n",
       "      <td>http://sharkattackfile.net/spreadsheets/pdf_di...</td>\n",
       "      <td>2016.09.18.b</td>\n",
       "      <td>2016.09.18.b</td>\n",
       "      <td>5992</td>\n",
       "    </tr>\n",
       "    <tr>\n",
       "      <th>2</th>\n",
       "      <td>2016.09.18.a</td>\n",
       "      <td>18-Sep-16</td>\n",
       "      <td>2016</td>\n",
       "      <td>Unprovoked</td>\n",
       "      <td>USA</td>\n",
       "      <td>Florida</td>\n",
       "      <td>New Smyrna Beach, Volusia County</td>\n",
       "      <td>Surfing</td>\n",
       "      <td>male</td>\n",
       "      <td>M</td>\n",
       "      <td>Lacerations to lower leg</td>\n",
       "      <td>N</td>\n",
       "      <td>Orlando Sentinel, 9/19/2016</td>\n",
       "      <td>2016.09.18.a-NSB.pdf</td>\n",
       "      <td>http://sharkattackfile.net/spreadsheets/pdf_di...</td>\n",
       "      <td>http://sharkattackfile.net/spreadsheets/pdf_di...</td>\n",
       "      <td>2016.09.18.a</td>\n",
       "      <td>2016.09.18.a</td>\n",
       "      <td>5991</td>\n",
       "    </tr>\n",
       "    <tr>\n",
       "      <th>3</th>\n",
       "      <td>2016.09.17</td>\n",
       "      <td>17-Sep-16</td>\n",
       "      <td>2016</td>\n",
       "      <td>Unprovoked</td>\n",
       "      <td>AUSTRALIA</td>\n",
       "      <td>Victoria</td>\n",
       "      <td>Thirteenth Beach</td>\n",
       "      <td>Surfing</td>\n",
       "      <td>Rory Angiolella</td>\n",
       "      <td>M</td>\n",
       "      <td>Struck by fin on chest &amp; leg</td>\n",
       "      <td>N</td>\n",
       "      <td>The Age, 9/18/2016</td>\n",
       "      <td>2016.09.17-Angiolella.pdf</td>\n",
       "      <td>http://sharkattackfile.net/spreadsheets/pdf_di...</td>\n",
       "      <td>http://sharkattackfile.net/spreadsheets/pdf_di...</td>\n",
       "      <td>2016.09.17</td>\n",
       "      <td>2016.09.17</td>\n",
       "      <td>5990</td>\n",
       "    </tr>\n",
       "    <tr>\n",
       "      <th>4</th>\n",
       "      <td>2016.09.15</td>\n",
       "      <td>16-Sep-16</td>\n",
       "      <td>2016</td>\n",
       "      <td>Unprovoked</td>\n",
       "      <td>AUSTRALIA</td>\n",
       "      <td>Victoria</td>\n",
       "      <td>Bells Beach</td>\n",
       "      <td>Surfing</td>\n",
       "      <td>male</td>\n",
       "      <td>M</td>\n",
       "      <td>No injury: Knocked off board by shark</td>\n",
       "      <td>N</td>\n",
       "      <td>The Age, 9/16/2016</td>\n",
       "      <td>2016.09.16-BellsBeach.pdf</td>\n",
       "      <td>http://sharkattackfile.net/spreadsheets/pdf_di...</td>\n",
       "      <td>http://sharkattackfile.net/spreadsheets/pdf_di...</td>\n",
       "      <td>2016.09.16</td>\n",
       "      <td>2016.09.15</td>\n",
       "      <td>5989</td>\n",
       "    </tr>\n",
       "  </tbody>\n",
       "</table>\n",
       "</div>"
      ],
      "text/plain": [
       "    Case Number       Date  Year        Type    Country      Area  \\\n",
       "0  2016.09.18.c  18-Sep-16  2016  Unprovoked        USA   Florida   \n",
       "1  2016.09.18.b  18-Sep-16  2016  Unprovoked        USA   Florida   \n",
       "2  2016.09.18.a  18-Sep-16  2016  Unprovoked        USA   Florida   \n",
       "3    2016.09.17  17-Sep-16  2016  Unprovoked  AUSTRALIA  Victoria   \n",
       "4    2016.09.15  16-Sep-16  2016  Unprovoked  AUSTRALIA  Victoria   \n",
       "\n",
       "                           Location Activity             Name Sex   \\\n",
       "0  New Smyrna Beach, Volusia County  Surfing             male    M   \n",
       "1  New Smyrna Beach, Volusia County  Surfing   Chucky Luciano    M   \n",
       "2  New Smyrna Beach, Volusia County  Surfing             male    M   \n",
       "3                  Thirteenth Beach  Surfing  Rory Angiolella    M   \n",
       "4                       Bells Beach  Surfing             male    M   \n",
       "\n",
       "                                  Injury Fatal (Y/N)  \\\n",
       "0                  Minor injury to thigh           N   \n",
       "1                   Lacerations to hands           N   \n",
       "2               Lacerations to lower leg           N   \n",
       "3           Struck by fin on chest & leg           N   \n",
       "4  No injury: Knocked off board by shark           N   \n",
       "\n",
       "        Investigator or Source                        pdf  \\\n",
       "0  Orlando Sentinel, 9/19/2016       2016.09.18.c-NSB.pdf   \n",
       "1  Orlando Sentinel, 9/19/2016   2016.09.18.b-Luciano.pdf   \n",
       "2  Orlando Sentinel, 9/19/2016       2016.09.18.a-NSB.pdf   \n",
       "3           The Age, 9/18/2016  2016.09.17-Angiolella.pdf   \n",
       "4           The Age, 9/16/2016  2016.09.16-BellsBeach.pdf   \n",
       "\n",
       "                                        href formula  \\\n",
       "0  http://sharkattackfile.net/spreadsheets/pdf_di...   \n",
       "1  http://sharkattackfile.net/spreadsheets/pdf_di...   \n",
       "2  http://sharkattackfile.net/spreadsheets/pdf_di...   \n",
       "3  http://sharkattackfile.net/spreadsheets/pdf_di...   \n",
       "4  http://sharkattackfile.net/spreadsheets/pdf_di...   \n",
       "\n",
       "                                                href Case Number.1  \\\n",
       "0  http://sharkattackfile.net/spreadsheets/pdf_di...  2016.09.18.c   \n",
       "1  http://sharkattackfile.net/spreadsheets/pdf_di...  2016.09.18.b   \n",
       "2  http://sharkattackfile.net/spreadsheets/pdf_di...  2016.09.18.a   \n",
       "3  http://sharkattackfile.net/spreadsheets/pdf_di...    2016.09.17   \n",
       "4  http://sharkattackfile.net/spreadsheets/pdf_di...    2016.09.16   \n",
       "\n",
       "  Case Number.2  original order  \n",
       "0  2016.09.18.c            5993  \n",
       "1  2016.09.18.b            5992  \n",
       "2  2016.09.18.a            5991  \n",
       "3    2016.09.17            5990  \n",
       "4    2016.09.15            5989  "
      ]
     },
     "execution_count": 137,
     "metadata": {},
     "output_type": "execute_result"
    }
   ],
   "source": [
    "df.head()"
   ]
  },
  {
   "cell_type": "code",
   "execution_count": 138,
   "id": "bf9c9928-ac40-4ebb-9ff8-ed2ff9b5631c",
   "metadata": {},
   "outputs": [],
   "source": [
    "df.rename(columns={'Species ':'Species'},inplace=True)"
   ]
  },
  {
   "cell_type": "code",
   "execution_count": 139,
   "id": "eae430f4-5267-4dab-b74f-f88025cf2083",
   "metadata": {},
   "outputs": [
    {
     "data": {
      "text/plain": [
       "Index(['Case Number', 'Date', 'Year', 'Type', 'Country', 'Area', 'Location',\n",
       "       'Activity', 'Name', 'Sex ', 'Injury', 'Fatal (Y/N)',\n",
       "       'Investigator or Source', 'pdf', 'href formula', 'href',\n",
       "       'Case Number.1', 'Case Number.2', 'original order'],\n",
       "      dtype='object')"
      ]
     },
     "execution_count": 139,
     "metadata": {},
     "output_type": "execute_result"
    }
   ],
   "source": [
    "df.columns"
   ]
  },
  {
   "cell_type": "code",
   "execution_count": 143,
   "id": "a0654a34-0319-4976-97dc-743433dac4d9",
   "metadata": {},
   "outputs": [
    {
     "data": {
      "text/plain": [
       "Index(['Case Number', 'Date', 'Year', 'Type', 'Country', 'Area', 'Location',\n",
       "       'Activity', 'Name', 'Sex ', 'Injury', 'Fatal (Y/N)',\n",
       "       'Investigator or Source', 'pdf', 'href formula', 'href',\n",
       "       'Case Number.1', 'Case Number.2', 'original order'],\n",
       "      dtype='object')"
      ]
     },
     "execution_count": 143,
     "metadata": {},
     "output_type": "execute_result"
    }
   ],
   "source": [
    "df.columns"
   ]
  },
  {
   "cell_type": "code",
   "execution_count": 144,
   "id": "caa50362-20bd-4a34-93e3-65ad5cd7bc56",
   "metadata": {},
   "outputs": [
    {
     "name": "stdout",
     "output_type": "stream",
     "text": [
      "<class 'pandas.core.frame.DataFrame'>\n",
      "RangeIndex: 5992 entries, 0 to 5991\n",
      "Data columns (total 19 columns):\n",
      " #   Column                  Non-Null Count  Dtype \n",
      "---  ------                  --------------  ----- \n",
      " 0   Case Number             5992 non-null   object\n",
      " 1   Date                    5992 non-null   object\n",
      " 2   Year                    5992 non-null   int64 \n",
      " 3   Type                    5992 non-null   object\n",
      " 4   Country                 5949 non-null   object\n",
      " 5   Area                    5590 non-null   object\n",
      " 6   Location                5496 non-null   object\n",
      " 7   Activity                5465 non-null   object\n",
      " 8   Name                    5792 non-null   object\n",
      " 9   Sex                     5425 non-null   object\n",
      " 10  Injury                  5965 non-null   object\n",
      " 11  Fatal (Y/N)             5973 non-null   object\n",
      " 12  Investigator or Source  5977 non-null   object\n",
      " 13  pdf                     5992 non-null   object\n",
      " 14  href formula            5991 non-null   object\n",
      " 15  href                    5989 non-null   object\n",
      " 16  Case Number.1           5992 non-null   object\n",
      " 17  Case Number.2           5992 non-null   object\n",
      " 18  original order          5992 non-null   int64 \n",
      "dtypes: int64(2), object(17)\n",
      "memory usage: 889.6+ KB\n"
     ]
    }
   ],
   "source": [
    "df.info()\n",
    "#Cambiar date a formato fecha"
   ]
  },
  {
   "cell_type": "code",
   "execution_count": 145,
   "id": "510f4cb8-4b00-433b-947c-6899fe4c2c5a",
   "metadata": {},
   "outputs": [
    {
     "data": {
      "text/plain": [
       "1957         11\n",
       "1942          9\n",
       "1956          8\n",
       "1950          7\n",
       "1958          7\n",
       "             ..\n",
       "23-Jan-93     1\n",
       "04-Feb-93     1\n",
       "18-Feb-93     1\n",
       "19-Feb-93     1\n",
       "1845-1853     1\n",
       "Name: Date, Length: 5128, dtype: int64"
      ]
     },
     "execution_count": 145,
     "metadata": {},
     "output_type": "execute_result"
    }
   ],
   "source": [
    "df.Date.value_counts()"
   ]
  },
  {
   "cell_type": "code",
   "execution_count": 146,
   "id": "96629c21-143f-4433-8b97-2fae4778aab3",
   "metadata": {},
   "outputs": [
    {
     "data": {
      "text/plain": [
       "0         18-Sep-16\n",
       "1         18-Sep-16\n",
       "2         18-Sep-16\n",
       "3         17-Sep-16\n",
       "4         16-Sep-16\n",
       "           ...     \n",
       "5987    Before 1903\n",
       "5988    Before 1903\n",
       "5989      1900-1905\n",
       "5990      1883-1889\n",
       "5991      1845-1853\n",
       "Name: Date, Length: 5992, dtype: object"
      ]
     },
     "execution_count": 146,
     "metadata": {},
     "output_type": "execute_result"
    }
   ],
   "source": [
    "df['Date']"
   ]
  },
  {
   "cell_type": "code",
   "execution_count": 147,
   "id": "596d6c95-753b-4a6b-b96c-46b545b2c0aa",
   "metadata": {},
   "outputs": [
    {
     "data": {
      "text/plain": [
       "male                    495\n",
       "female                   85\n",
       "boy                      23\n",
       "boat                     14\n",
       "2 males                  14\n",
       "                       ... \n",
       "Janelle Dickinson         1\n",
       "Jack Mounteer             1\n",
       "Jan-Henrick Opperman      1\n",
       "Marc Jucker               1\n",
       "Jules Patterson           1\n",
       "Name: Name, Length: 5009, dtype: int64"
      ]
     },
     "execution_count": 147,
     "metadata": {},
     "output_type": "execute_result"
    }
   ],
   "source": [
    "df['Name'].value_counts()"
   ]
  },
  {
   "cell_type": "code",
   "execution_count": 148,
   "id": "f1f333fe-bd38-4930-ab07-3984fe344f55",
   "metadata": {},
   "outputs": [],
   "source": [
    "lista_nombres=['male','female','boy','boat','2 males','child','Anonymous','sailor','a sailor','males','girl','fisherman','Unidentified','a pearl diver','a native','Unknown','black male',\n",
    "              'a soldier','2 fishermen','Arab boy','aboriginal male','2 women','Japanese diver','M.C.','woman','Zulu male',' male','Russian male','unknown']"
   ]
  },
  {
   "cell_type": "code",
   "execution_count": 149,
   "id": "4902a0bd-1007-4018-bd73-a4633c3cc31c",
   "metadata": {},
   "outputs": [],
   "source": [
    "df.Name = df.Name.apply(lambda x: 'No name' if x in lista_nombres else x)"
   ]
  },
  {
   "cell_type": "code",
   "execution_count": 150,
   "id": "fa9a4631-bbd5-400a-8167-f7f4c24bce41",
   "metadata": {},
   "outputs": [
    {
     "data": {
      "text/plain": [
       "No name              750\n",
       "Andre Hartman          3\n",
       "3 males                3\n",
       "native boy             3\n",
       "dinghy                 3\n",
       "                    ... \n",
       "Jamie  Harrington      1\n",
       "Danny Bravier          1\n",
       "Brian Catarra          1\n",
       "Anton deVos            1\n",
       "Jules Patterson        1\n",
       "Name: Name, Length: 4981, dtype: int64"
      ]
     },
     "execution_count": 150,
     "metadata": {},
     "output_type": "execute_result"
    }
   ],
   "source": [
    "df.Name.value_counts()"
   ]
  },
  {
   "cell_type": "code",
   "execution_count": 151,
   "id": "f61fff01-8d2b-4114-b1a5-18922d3a69c6",
   "metadata": {},
   "outputs": [
    {
     "data": {
      "text/plain": [
       "1803      1\n",
       "1595      1\n",
       "1617      1\n",
       "1637      1\n",
       "1554      1\n",
       "       ... \n",
       "2013    122\n",
       "0       124\n",
       "2014    125\n",
       "2011    128\n",
       "2015    139\n",
       "Name: Year, Length: 232, dtype: int64"
      ]
     },
     "execution_count": 151,
     "metadata": {},
     "output_type": "execute_result"
    }
   ],
   "source": [
    "df.Year.value_counts().sort_values()"
   ]
  },
  {
   "cell_type": "code",
   "execution_count": 152,
   "id": "d4472d82-e424-4015-9bec-0b620cfcfafa",
   "metadata": {},
   "outputs": [
    {
     "data": {
      "text/plain": [
       "Case Number               object\n",
       "Date                      object\n",
       "Year                       int64\n",
       "Type                      object\n",
       "Country                   object\n",
       "Area                      object\n",
       "Location                  object\n",
       "Activity                  object\n",
       "Name                      object\n",
       "Sex                       object\n",
       "Injury                    object\n",
       "Fatal (Y/N)               object\n",
       "Investigator or Source    object\n",
       "pdf                       object\n",
       "href formula              object\n",
       "href                      object\n",
       "Case Number.1             object\n",
       "Case Number.2             object\n",
       "original order             int64\n",
       "dtype: object"
      ]
     },
     "execution_count": 152,
     "metadata": {},
     "output_type": "execute_result"
    }
   ],
   "source": [
    "df.dtypes"
   ]
  },
  {
   "cell_type": "code",
   "execution_count": 153,
   "id": "fc6d49cf-68d8-4e11-8acc-4508d13f42ea",
   "metadata": {},
   "outputs": [
    {
     "data": {
      "text/plain": [
       "Index(['Case Number', 'Date', 'Year', 'Type', 'Country', 'Area', 'Location',\n",
       "       'Activity', 'Name', 'Sex ', 'Injury', 'Fatal (Y/N)',\n",
       "       'Investigator or Source', 'pdf', 'href formula', 'href',\n",
       "       'Case Number.1', 'Case Number.2', 'original order'],\n",
       "      dtype='object')"
      ]
     },
     "execution_count": 153,
     "metadata": {},
     "output_type": "execute_result"
    }
   ],
   "source": [
    "df.columns"
   ]
  },
  {
   "cell_type": "code",
   "execution_count": 161,
   "id": "20b011dd-aa3c-45ef-929d-05f72f86f666",
   "metadata": {},
   "outputs": [],
   "source": [
    "df.Year = df.Year.apply(lambda x: 'missing year' if x == '0' else x)"
   ]
  },
  {
   "cell_type": "code",
   "execution_count": 162,
   "id": "4bd31f67-fa25-40c6-8b6a-c3e57d5e9470",
   "metadata": {},
   "outputs": [
    {
     "data": {
      "text/plain": [
       "0               2016\n",
       "1               2016\n",
       "2               2016\n",
       "3               2016\n",
       "4               2016\n",
       "            ...     \n",
       "5987    missing year\n",
       "5988    missing year\n",
       "5989    missing year\n",
       "5990    missing year\n",
       "5991    missing year\n",
       "Name: Year, Length: 5992, dtype: object"
      ]
     },
     "execution_count": 162,
     "metadata": {},
     "output_type": "execute_result"
    }
   ],
   "source": [
    "df.Year"
   ]
  },
  {
   "cell_type": "code",
   "execution_count": 163,
   "id": "534e5509-d65e-468e-a756-a433d67e0a37",
   "metadata": {},
   "outputs": [],
   "source": [
    "df.dropna(inplace = True)"
   ]
  },
  {
   "cell_type": "code",
   "execution_count": 165,
   "id": "a4cd1239-31d3-4bdd-a960-12a53eb28351",
   "metadata": {},
   "outputs": [
    {
     "data": {
      "text/plain": [
       "85272"
      ]
     },
     "execution_count": 165,
     "metadata": {},
     "output_type": "execute_result"
    }
   ],
   "source": [
    "df.size"
   ]
  },
  {
   "cell_type": "code",
   "execution_count": 166,
   "id": "3864c468-d00d-4968-822f-29862e7f9506",
   "metadata": {},
   "outputs": [
    {
     "data": {
      "text/plain": [
       "(4488, 19)"
      ]
     },
     "execution_count": 166,
     "metadata": {},
     "output_type": "execute_result"
    }
   ],
   "source": [
    "df.shape"
   ]
  },
  {
   "cell_type": "code",
   "execution_count": 173,
   "id": "f9db2bd4-79af-4ad2-ac96-225ee0efb6c0",
   "metadata": {},
   "outputs": [],
   "source": [
    "#df.Date.astype('datetime64')"
   ]
  },
  {
   "cell_type": "code",
   "execution_count": 176,
   "id": "ec09b2ec-4298-420f-8637-5226d5a8e57c",
   "metadata": {},
   "outputs": [
    {
     "data": {
      "text/plain": [
       "(4488, 19)"
      ]
     },
     "execution_count": 176,
     "metadata": {},
     "output_type": "execute_result"
    }
   ],
   "source": [
    "df.drop_duplicates().shape"
   ]
  },
  {
   "cell_type": "code",
   "execution_count": 177,
   "id": "5aa619ea-55e5-4585-bc63-4eb58226fbc8",
   "metadata": {},
   "outputs": [],
   "source": [
    "df.to_csv('ProjectCSV.csv')"
   ]
  },
  {
   "cell_type": "code",
   "execution_count": null,
   "id": "a564082f-10f8-4722-9e8d-3c3f08ba3745",
   "metadata": {},
   "outputs": [],
   "source": []
  }
 ],
 "metadata": {
  "kernelspec": {
   "display_name": "Python 3 (ipykernel)",
   "language": "python",
   "name": "python3"
  },
  "language_info": {
   "codemirror_mode": {
    "name": "ipython",
    "version": 3
   },
   "file_extension": ".py",
   "mimetype": "text/x-python",
   "name": "python",
   "nbconvert_exporter": "python",
   "pygments_lexer": "ipython3",
   "version": "3.9.12"
  }
 },
 "nbformat": 4,
 "nbformat_minor": 5
}
